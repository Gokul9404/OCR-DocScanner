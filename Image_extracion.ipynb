{
 "cells": [
  {
   "cell_type": "code",
   "execution_count": 1,
   "metadata": {},
   "outputs": [],
   "source": [
    "import cv2 \n",
    "import numpy as np\n",
    "import matplotlib.pyplot as plt"
   ]
  },
  {
   "cell_type": "code",
   "execution_count": 3,
   "metadata": {},
   "outputs": [
    {
     "ename": "",
     "evalue": "",
     "output_type": "error",
     "traceback": [
      "\u001b[1;31mThe Kernel crashed while executing code in the the current cell or a previous cell. Please review the code in the cell(s) to identify a possible cause of the failure. Click <a href='https://aka.ms/vscodeJupyterKernelCrash'>here</a> for more info. View Jupyter <a href='command:jupyter.viewOutput'>log</a> for further details."
     ]
    }
   ],
   "source": [
    "img = cv2.imread('t2.jpg')"
   ]
  },
  {
   "cell_type": "code",
   "execution_count": 2,
   "metadata": {},
   "outputs": [
    {
     "ename": "NameError",
     "evalue": "name 'img' is not defined",
     "output_type": "error",
     "traceback": [
      "\u001b[1;31m---------------------------------------------------------------------------\u001b[0m",
      "\u001b[1;31mNameError\u001b[0m                                 Traceback (most recent call last)",
      "\u001b[1;32m~\\AppData\\Local\\Temp\\ipykernel_13248\\3024539266.py\u001b[0m in \u001b[0;36m<module>\u001b[1;34m\u001b[0m\n\u001b[0;32m     12\u001b[0m     \u001b[1;31m# src = Threshold1,Threshold2\u001b[0m\u001b[1;33m\u001b[0m\u001b[1;33m\u001b[0m\u001b[1;33m\u001b[0m\u001b[0m\n\u001b[0;32m     13\u001b[0m \u001b[1;33m\u001b[0m\u001b[0m\n\u001b[1;32m---> 14\u001b[1;33m     \u001b[0mGray\u001b[0m \u001b[1;33m=\u001b[0m \u001b[0mcv2\u001b[0m\u001b[1;33m.\u001b[0m\u001b[0mcvtColor\u001b[0m\u001b[1;33m(\u001b[0m\u001b[0mimg\u001b[0m\u001b[1;33m,\u001b[0m \u001b[0mcv2\u001b[0m\u001b[1;33m.\u001b[0m\u001b[0mCOLOR_BGR2GRAY\u001b[0m\u001b[1;33m)\u001b[0m\u001b[1;33m\u001b[0m\u001b[1;33m\u001b[0m\u001b[0m\n\u001b[0m\u001b[0;32m     15\u001b[0m \u001b[1;33m\u001b[0m\u001b[0m\n\u001b[0;32m     16\u001b[0m     \u001b[0mGray_blur\u001b[0m \u001b[1;33m=\u001b[0m \u001b[0mcv2\u001b[0m\u001b[1;33m.\u001b[0m\u001b[0mGaussianBlur\u001b[0m\u001b[1;33m(\u001b[0m\u001b[0mGray\u001b[0m\u001b[1;33m,\u001b[0m\u001b[1;33m(\u001b[0m\u001b[1;36m5\u001b[0m\u001b[1;33m,\u001b[0m\u001b[1;36m5\u001b[0m\u001b[1;33m)\u001b[0m\u001b[1;33m,\u001b[0m \u001b[1;36m1\u001b[0m\u001b[1;33m)\u001b[0m\u001b[1;33m\u001b[0m\u001b[1;33m\u001b[0m\u001b[0m\n",
      "\u001b[1;31mNameError\u001b[0m: name 'img' is not defined"
     ]
    }
   ],
   "source": [
    "# def nothing(x):\n",
    "#     pass\n",
    "\n",
    "# cv2.namedWindow(\"Trackbars\")\n",
    "# cv2.resizeWindow(\"Trackbars\", 360, 240)\n",
    "# cv2.createTrackbar(\"Threshold1\", \"Trackbars\", 200,255, nothing)\n",
    "# cv2.createTrackbar(\"Threshold2\", \"Trackbars\", 200, 255, nothing)\n",
    "\n",
    "# while True:\n",
    "#     Threshold1 = cv2.getTrackbarPos(\"Threshold1\", \"Trackbars\")\n",
    "#     Threshold2 = cv2.getTrackbarPos(\"Threshold2\", \"Trackbars\")\n",
    "#     # src = Threshold1,Threshold2\n",
    "\n",
    "#     Gray = cv2.cvtColor(img, cv2.COLOR_BGR2GRAY)\n",
    "\n",
    "#     Gray_blur = cv2.GaussianBlur(Gray,(5,5), 1)\n",
    "\n",
    "#     Edges = cv2.Canny(Gray_blur,Threshold1,Threshold2)\n",
    "\n",
    "#     # contour\n",
    "#     contour, heirarchy = cv2.findContours(Edges, cv2.RETR_EXTERNAL , cv2.CHAIN_APPROX_SIMPLE)\n",
    "\n",
    "#     img_ = img.copy()\n",
    "\n",
    "#     cv2.drawContours(img_, contour , -1,(0,0,255), 5)\n",
    "\n",
    "\n",
    "#     cv2.imshow(\"Original Image\", img)\n",
    "#     cv2.imshow(\"Object Edge\", Edges)\n",
    "#     cv2.imshow(\"mask\", img_)\n",
    "\n",
    "#     k = cv2.waitKey(1) & 0xFF\n",
    "#     if k == 27:\n",
    "#         break\n",
    "# # cap.release()\n",
    "# cv2.destroyAllWindows()"
   ]
  },
  {
   "cell_type": "code",
   "execution_count": null,
   "metadata": {},
   "outputs": [],
   "source": [
    "# Gray = cv2.cvtColor(img, cv2.COLOR_BGR2GRAY)\n",
    "\n",
    "# Threshold1 = cv2.getTrackbarPos(\"Threshold1\", \"Trackbars\")\n",
    "# Threshold2 = cv2.getTrackbarPos(\"Threshold2\", \"Trackbars\")\n",
    "\n",
    "# Gray_blur = cv2.GaussianBlur(Gray,(5,5), 1)\n",
    "\n",
    "# Edges = cv2.Canny(Gray_blur,90,Threshold2)\n",
    "\n",
    "# # contour\n",
    "# contour, heirarchy = cv2.findContours(Edges, cv2.RETR_EXTERNAL , cv2.CHAIN_APPROX_SIMPLE)\n",
    "\n",
    "# img_ = img.copy()\n",
    "\n",
    "# cv2.drawContours(img_, contour , -1,(0,0,255), 5)\n",
    "\n",
    "# plt.subplot(221),plt.imshow(Gray,cmap='gray');\n",
    "# plt.subplot(222),plt.imshow(Gray_blur,cmap='gray');\n",
    "# plt.subplot(223),plt.imshow(Edges,cmap='gray');\n",
    "# plt.subplot(224),plt.imshow(img_,cmap='gray');\n",
    "# plt.show()"
   ]
  },
  {
   "cell_type": "code",
   "execution_count": null,
   "metadata": {},
   "outputs": [],
   "source": [
    "def biggestContour(contours):\n",
    "    biggest = np.array([])\n",
    "    max_area = 0\n",
    "    for i in contours:\n",
    "        area = cv2.contourArea(i)\n",
    "        if area > 5000:\n",
    "            peri = cv2.arcLength(i, True)\n",
    "            approx = cv2.approxPolyDP(i, 0.02 * peri, True)\n",
    "            if area > max_area and len(approx) == 4:\n",
    "                biggest = approx\n",
    "                max_area = area\n",
    "    return biggest,max_area\n",
    "\n",
    " \n",
    "def reorder(myPoints):\n",
    " \n",
    "    myPoints = myPoints.reshape((4, 2))\n",
    "    myPointsNew = np.zeros((4, 1, 2), dtype=np.int32)\n",
    "    add = myPoints.sum(1)\n",
    " \n",
    "    myPointsNew[0] = myPoints[np.argmin(add)]\n",
    "    myPointsNew[3] =myPoints[np.argmax(add)]\n",
    "    diff = np.diff(myPoints, axis=1)\n",
    "    myPointsNew[1] =myPoints[np.argmin(diff)]\n",
    "    myPointsNew[2] = myPoints[np.argmax(diff)]\n",
    " \n",
    "    return myPointsNew\n",
    " "
   ]
  },
  {
   "cell_type": "code",
   "execution_count": null,
   "metadata": {},
   "outputs": [],
   "source": [
    "img_1 = img.copy()\n",
    "\n",
    "# for cntor in contour:\n",
    "#     hull = cv2.convexHull(cntor)\n",
    "#     cv2.drawContours(img_1, [hull], -1, (255,0,0), 3)\n",
    "\n",
    "cntor, area =  biggestContour(contour)\n",
    "\n",
    "if cntor.size != 0:\n",
    "    cntor = reorder(cntor)\n",
    "    cv2.drawContours(img_1, cntor, -1, (255,0,0), 5)\n",
    "\n",
    "plt.imshow(img_1)\n"
   ]
  },
  {
   "cell_type": "code",
   "execution_count": null,
   "metadata": {},
   "outputs": [],
   "source": []
  },
  {
   "cell_type": "code",
   "execution_count": null,
   "metadata": {},
   "outputs": [],
   "source": []
  }
 ],
 "metadata": {
  "kernelspec": {
   "display_name": "Python 3",
   "language": "python",
   "name": "python3"
  },
  "language_info": {
   "codemirror_mode": {
    "name": "ipython",
    "version": 3
   },
   "file_extension": ".py",
   "mimetype": "text/x-python",
   "name": "python",
   "nbconvert_exporter": "python",
   "pygments_lexer": "ipython3",
   "version": "3.7.9"
  },
  "orig_nbformat": 4
 },
 "nbformat": 4,
 "nbformat_minor": 2
}
